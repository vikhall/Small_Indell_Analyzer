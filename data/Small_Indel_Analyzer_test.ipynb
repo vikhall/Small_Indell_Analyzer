{
 "cells": [
  {
   "cell_type": "code",
   "execution_count": 2,
   "id": "4024fba9",
   "metadata": {},
   "outputs": [],
   "source": [
    "from random import randint"
   ]
  },
  {
   "cell_type": "code",
   "execution_count": 19,
   "id": "ceb8822e",
   "metadata": {},
   "outputs": [
    {
     "name": "stdout",
     "output_type": "stream",
     "text": [
      "933\n"
     ]
    }
   ],
   "source": [
    "c = 0\n",
    "with open('single_del_12_case.fastq', 'w') as outfile:\n",
    "    for i in range(10000):\n",
    "        outfile.write(f'@Seq_{i}'+'\\n')\n",
    "        if a := randint(1, 10000) < 1000:\n",
    "            outfile.write('ATGATGCTTTAACCGGTGACACTGATGATTATATACAAGTGCAAA'+'\\n')\n",
    "            c += 1\n",
    "        else:\n",
    "            outfile.write('ATGATGCTTTATACCGGTGACACTGATGATTATATACAAGTGCAAA'+'\\n')\n",
    "        outfile.write('+'+'\\n')\n",
    "        outfile.write('BBBBBFFFBBBBGGGGFGGGGGHHHH#BBFFGHHFFFAFGHHHHHHHHHHGHHHHHHHHHHHHHHHHHHHHHHGGGGGHHGGGHHGHHHHHHHHHHHHHHHHHHHHHHHHHHGHHHHHHHHHHHHHEHHHHHGGGGGGHHHHHHFHHHHHHGGGGGGHHHHGHHHHHHHHHHHFHHHFGGGGGGGGHHHHHHHGHHHAAGGGGGGGGGGFGGGFEFFFFFFFFFFFFFFFF?CADFFBFFFFFFFFFFFFF'+'\\n')\n",
    "print(c)"
   ]
  },
  {
   "cell_type": "code",
   "execution_count": 20,
   "id": "abc45a54",
   "metadata": {},
   "outputs": [
    {
     "name": "stdout",
     "output_type": "stream",
     "text": [
      "13\n"
     ]
    }
   ],
   "source": [
    "c = 0\n",
    "with open('single_del_12_control.fastq', 'w') as outfile:\n",
    "    for i in range(10000):\n",
    "        outfile.write(f'@Seq_{i}'+'\\n')\n",
    "        if a := randint(1, 10000) < 10:\n",
    "            outfile.write('ATGATGCTTTAACCGGTGACACTGATGATTATATACAAGTGCAAA'+'\\n')\n",
    "            c += 1\n",
    "        else:\n",
    "            outfile.write('ATGATGCTTTATACCGGTGACACTGATGATTATATACAAGTGCAAA'+'\\n')\n",
    "        outfile.write('+'+'\\n')\n",
    "        outfile.write('BBBBBFFFBBBBGGGGFGGGGGHHHH#BBFFGHHFFFAFGHHHHHHHHHHGHHHHHHHHHHHHHHHHHHHHHHGGGGGHHGGGHHGHHHHHHHHHHHHHHHHHHHHHHHHHHGHHHHHHHHHHHHHEHHHHHGGGGGGHHHHHHFHHHHHHGGGGGGHHHHGHHHHHHHHHHHFHHHFGGGGGGGGHHHHHHHGHHHAAGGGGGGGGGGFGGGFEFFFFFFFFFFFFFFFF?CADFFBFFFFFFFFFFFFF'+'\\n')\n",
    "print(c)"
   ]
  },
  {
   "cell_type": "code",
   "execution_count": 24,
   "id": "5a89b016",
   "metadata": {},
   "outputs": [
    {
     "name": "stdout",
     "output_type": "stream",
     "text": [
      "3066\n"
     ]
    }
   ],
   "source": [
    "c = 0\n",
    "with open('single_ins_8_case.fastq', 'w') as outfile:\n",
    "    for i in range(10000):\n",
    "        outfile.write(f'@Seq_{i}'+'\\n')\n",
    "        if a := randint(1, 10000) < 3000:\n",
    "            outfile.write('ATGATGCCTTTATACCGGTGACACTGATGATTATATACAAGTGCAAA'+'\\n')\n",
    "            c += 1\n",
    "        else:\n",
    "            outfile.write('ATGATGCTTTATACCGGTGACACTGATGATTATATACAAGTGCAAA'+'\\n')\n",
    "        outfile.write('+'+'\\n')\n",
    "        outfile.write('BBBBBFFFBBBBGGGGFGGGGGHHHH#BBFFGHHFFFAFGHHHHHHHHHHGHHHHHHHHHHHHHHHHHHHHHHGGGGGHHGGGHHGHHHHHHHHHHHHHHHHHHHHHHHHHHGHHHHHHHHHHHHHEHHHHHGGGGGGHHHHHHFHHHHHHGGGGGGHHHHGHHHHHHHHHHHFHHHFGGGGGGGGHHHHHHHGHHHAAGGGGGGGGGGFGGGFEFFFFFFFFFFFFFFFF?CADFFBFFFFFFFFFFFFF'+'\\n')\n",
    "print(c)"
   ]
  },
  {
   "cell_type": "code",
   "execution_count": 25,
   "id": "0cfebd86",
   "metadata": {},
   "outputs": [
    {
     "name": "stdout",
     "output_type": "stream",
     "text": [
      "3\n"
     ]
    }
   ],
   "source": [
    "c = 0\n",
    "with open('single_ins_8_control.fastq', 'w') as outfile:\n",
    "    for i in range(10000):\n",
    "        outfile.write(f'@Seq_{i}'+'\\n')\n",
    "        if a := randint(1, 10000) < 6:\n",
    "            outfile.write('ATGATGCCTTTATACCGGTGACACTGATGATTATATACAAGTGCAAA'+'\\n')\n",
    "            c += 1\n",
    "        else:\n",
    "            outfile.write('ATGATGCTTTATACCGGTGACACTGATGATTATATACAAGTGCAAA'+'\\n')\n",
    "        outfile.write('+'+'\\n')\n",
    "        outfile.write('BBBBBFFFBBBBGGGGFGGGGGHHHH#BBFFGHHFFFAFGHHHHHHHHHHGHHHHHHHHHHHHHHHHHHHHHHGGGGGHHGGGHHGHHHHHHHHHHHHHHHHHHHHHHHHHHGHHHHHHHHHHHHHEHHHHHGGGGGGHHHHHHFHHHHHHGGGGGGHHHHGHHHHHHHHHHHFHHHFGGGGGGGGHHHHHHHGHHHAAGGGGGGGGGGFGGGFEFFFFFFFFFFFFFFFF?CADFFBFFFFFFFFFFFFF'+'\\n')\n",
    "print(c)"
   ]
  },
  {
   "cell_type": "code",
   "execution_count": 28,
   "id": "6e885522",
   "metadata": {},
   "outputs": [
    {
     "name": "stdout",
     "output_type": "stream",
     "text": [
      "6025\n"
     ]
    }
   ],
   "source": [
    "c = 0\n",
    "with open('single_long_del_23-27_case.fastq', 'w') as outfile:\n",
    "    for i in range(10000):\n",
    "        outfile.write(f'@Seq_{i}'+'\\n')\n",
    "        if a := randint(1, 10000) < 6000:\n",
    "            outfile.write('ATGATGCTTTATACCGGTGACAGATTATATACAAGTGCAAA'+'\\n')\n",
    "            c += 1\n",
    "        else:\n",
    "            outfile.write('ATGATGCTTTATACCGGTGACACTGATGATTATATACAAGTGCAAA'+'\\n')\n",
    "        outfile.write('+'+'\\n')\n",
    "        outfile.write('BBBBBFFFBBBBGGGGFGGGGGHHHH#BBFFGHHFFFAFGHHHHHHHHHHGHHHHHHHHHHHHHHHHHHHHHHGGGGGHHGGGHHGHHHHHHHHHHHHHHHHHHHHHHHHHHGHHHHHHHHHHHHHEHHHHHGGGGGGHHHHHHFHHHHHHGGGGGGHHHHGHHHHHHHHHHHFHHHFGGGGGGGGHHHHHHHGHHHAAGGGGGGGGGGFGGGFEFFFFFFFFFFFFFFFF?CADFFBFFFFFFFFFFFFF'+'\\n')\n",
    "print(c)"
   ]
  },
  {
   "cell_type": "code",
   "execution_count": 30,
   "id": "4c98ad94",
   "metadata": {},
   "outputs": [
    {
     "name": "stdout",
     "output_type": "stream",
     "text": [
      "4\n"
     ]
    }
   ],
   "source": [
    "c = 0\n",
    "with open('single_long_del_23-27_control.fastq', 'w') as outfile:\n",
    "    for i in range(10000):\n",
    "        outfile.write(f'@Seq_{i}'+'\\n')\n",
    "        if a := randint(1, 10000) < 6:\n",
    "            outfile.write('ATGATGCTTTATACCGGTGACAGATTATATACAAGTGCAAA'+'\\n')\n",
    "            c += 1\n",
    "        else:\n",
    "            outfile.write('ATGATGCTTTATACCGGTGACACTGATGATTATATACAAGTGCAAA'+'\\n')\n",
    "        outfile.write('+'+'\\n')\n",
    "        outfile.write('BBBBBFFFBBBBGGGGFGGGGGHHHH#BBFFGHHFFFAFGHHHHHHHHHHGHHHHHHHHHHHHHHHHHHHHHHGGGGGHHGGGHHGHHHHHHHHHHHHHHHHHHHHHHHHHHGHHHHHHHHHHHHHEHHHHHGGGGGGHHHHHHFHHHHHHGGGGGGHHHHGHHHHHHHHHHHFHHHFGGGGGGGGHHHHHHHGHHHAAGGGGGGGGGGFGGGFEFFFFFFFFFFFFFFFF?CADFFBFFFFFFFFFFFFF'+'\\n')\n",
    "print(c)"
   ]
  },
  {
   "cell_type": "code",
   "execution_count": 31,
   "id": "2f279e8c",
   "metadata": {},
   "outputs": [
    {
     "name": "stdout",
     "output_type": "stream",
     "text": [
      "7033\n"
     ]
    }
   ],
   "source": [
    "c = 0\n",
    "with open('single_long_ins_31-35_case.fastq', 'w') as outfile:\n",
    "    for i in range(10000):\n",
    "        outfile.write(f'@Seq_{i}'+'\\n')\n",
    "        if a := randint(1, 10000) < 7000:\n",
    "            outfile.write('ATGATGCTTTATACCGGTGACACTGATGAATGCTTTATATACAAGTGCAAA'+'\\n')\n",
    "            c += 1\n",
    "        else:\n",
    "            outfile.write('ATGATGCTTTATACCGGTGACACTGATGATTATATACAAGTGCAAA'+'\\n')\n",
    "        outfile.write('+'+'\\n')\n",
    "        outfile.write('BBBBBFFFBBBBGGGGFGGGGGHHHH#BBFFGHHFFFAFGHHHHHHHHHHGHHHHHHHHHHHHHHHHHHHHHHGGGGGHHGGGHHGHHHHHHHHHHHHHHHHHHHHHHHHHHGHHHHHHHHHHHHHEHHHHHGGGGGGHHHHHHFHHHHHHGGGGGGHHHHGHHHHHHHHHHHFHHHFGGGGGGGGHHHHHHHGHHHAAGGGGGGGGGGFGGGFEFFFFFFFFFFFFFFFF?CADFFBFFFFFFFFFFFFF'+'\\n')\n",
    "print(c)"
   ]
  },
  {
   "cell_type": "code",
   "execution_count": 32,
   "id": "0dfa44e3",
   "metadata": {},
   "outputs": [
    {
     "name": "stdout",
     "output_type": "stream",
     "text": [
      "9\n"
     ]
    }
   ],
   "source": [
    "c = 0\n",
    "with open('single_long_ins_31-35_control.fastq', 'w') as outfile:\n",
    "    for i in range(10000):\n",
    "        outfile.write(f'@Seq_{i}'+'\\n')\n",
    "        if a := randint(1, 10000) < 7:\n",
    "            outfile.write('ATGATGCTTTATACCGGTGACACTGATGAATGCTTTATATACAAGTGCAAA'+'\\n')\n",
    "            c += 1\n",
    "        else:\n",
    "            outfile.write('ATGATGCTTTATACCGGTGACACTGATGATTATATACAAGTGCAAA'+'\\n')\n",
    "        outfile.write('+'+'\\n')\n",
    "        outfile.write('BBBBBFFFBBBBGGGGFGGGGGHHHH#BBFFGHHFFFAFGHHHHHHHHHHGHHHHHHHHHHHHHHHHHHHHHHGGGGGHHGGGHHGHHHHHHHHHHHHHHHHHHHHHHHHHHGHHHHHHHHHHHHHEHHHHHGGGGGGHHHHHHFHHHHHHGGGGGGHHHHGHHHHHHHHHHHFHHHFGGGGGGGGHHHHHHHGHHHAAGGGGGGGGGGFGGGFEFFFFFFFFFFFFFFFF?CADFFBFFFFFFFFFFFFF'+'\\n')\n",
    "print(c)"
   ]
  },
  {
   "cell_type": "code",
   "execution_count": 85,
   "id": "179f3b7a",
   "metadata": {},
   "outputs": [
    {
     "name": "stdout",
     "output_type": "stream",
     "text": [
      "3016 1392\n"
     ]
    }
   ],
   "source": [
    "c = 0\n",
    "n = 0\n",
    "with open('long_ins_4-7_CAAA_R_case.fastq', 'w') as outfile:\n",
    "    for i in range(10000):\n",
    "        outfile.write(f'@Seq_{i}'+'\\n')\n",
    "        if a := randint(1, 10000) < 3000:\n",
    "            outfile.write('ATGATGCATCCTTTATACCGGTGACACTGATGATTATATACAAGTGCAAA'+'\\n')\n",
    "            c += 1\n",
    "        elif b := randint(1, 10000) < 2000:\n",
    "            outfile.write('ATGATGCTTTATACCGGTGACACTGATGATTATATACAAGTGCAAA'+'\\n')\n",
    "            n += 1\n",
    "        else:\n",
    "            outfile.write('ATGATGCTTTATACCGGTGACACTGATGATTATATACAAGTGCAAA'+'\\n')\n",
    "        outfile.write('+'+'\\n')\n",
    "        outfile.write('BBBBBFFFBBBBGGGGFGGGGGHHHH#BBFFGHHFFFAFGHHHHHHHHHHGHHHHHHHHHHHHHHHHHHHHHHGGGGGHHGGGHHGHHHHHHHHHHHHHHHHHHHHHHHHHHGHHHHHHHHHHHHHEHHHHHGGGGGGHHHHHHFHHHHHHGGGGGGHHHHGHHHHHHHHHHHFHHHFGGGGGGGGHHHHHHHGHHHAAGGGGGGGGGGFGGGFEFFFFFFFFFFFFFFFF?CADFFBFFFFFFFFFFFFF'+'\\n')\n",
    "print(c, n)"
   ]
  },
  {
   "cell_type": "code",
   "execution_count": 86,
   "id": "ceee324e",
   "metadata": {},
   "outputs": [
    {
     "name": "stdout",
     "output_type": "stream",
     "text": [
      "3 12\n"
     ]
    }
   ],
   "source": [
    "c = 0\n",
    "n = 0\n",
    "with open('long_ins_4-7_CAAA_R_control.fastq', 'w') as outfile:\n",
    "    for i in range(10000):\n",
    "        outfile.write(f'@Seq_{i}'+'\\n')\n",
    "        if a := randint(1, 10000) < 3:\n",
    "            outfile.write('ATGATGCATCCTTTATACCGGTGACACTGATGATTATATACAAGTGCAAA'+'\\n')\n",
    "            c += 1\n",
    "        elif b := randint(1, 1000) < 2:\n",
    "            outfile.write('ATGATGCTTTATACCGGTGACACTGATGATTATATACAAGTGCAAA'+'\\n')\n",
    "            n += 1\n",
    "        else:\n",
    "            outfile.write('ATGATGCTTTATACCGGTGACACTGATGATTATATACAAGTGCAAA'+'\\n')\n",
    "        outfile.write('+'+'\\n')\n",
    "        outfile.write('BBBBBFFFBBBBGGGGFGGGGGHHHH#BBFFGHHFFFAFGHHHHHHHHHHGHHHHHHHHHHHHHHHHHHHHHHGGGGGHHGGGHHGHHHHHHHHHHHHHHHHHHHHHHHHHHGHHHHHHHHHHHHHEHHHHHGGGGGGHHHHHHFHHHHHHGGGGGGHHHHGHHHHHHHHHHHFHHHFGGGGGGGGHHHHHHHGHHHAAGGGGGGGGGGFGGGFEFFFFFFFFFFFFFFFF?CADFFBFFFFFFFFFFFFF'+'\\n')\n",
    "print(c, n)"
   ]
  },
  {
   "cell_type": "code",
   "execution_count": null,
   "id": "53942195",
   "metadata": {},
   "outputs": [],
   "source": [
    "'ATGATCTTTATACCGGTGACACTGATTATATACAAGTGCAAA'"
   ]
  }
 ],
 "metadata": {
  "kernelspec": {
   "display_name": "Python 3 (ipykernel)",
   "language": "python",
   "name": "python3"
  },
  "language_info": {
   "codemirror_mode": {
    "name": "ipython",
    "version": 3
   },
   "file_extension": ".py",
   "mimetype": "text/x-python",
   "name": "python",
   "nbconvert_exporter": "python",
   "pygments_lexer": "ipython3",
   "version": "3.9.12"
  }
 },
 "nbformat": 4,
 "nbformat_minor": 5
}
